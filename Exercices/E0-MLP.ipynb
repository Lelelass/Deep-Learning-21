{
 "cells": [
  {
   "cell_type": "code",
   "execution_count": 45,
   "metadata": {},
   "outputs": [],
   "source": [
    "from seaborn import load_dataset\n",
    "import numpy as np\n",
    "import pandas as pd"
   ]
  },
  {
   "cell_type": "code",
   "execution_count": 46,
   "metadata": {},
   "outputs": [
    {
     "name": "stdout",
     "output_type": "stream",
     "text": [
      "<class 'pandas.core.frame.DataFrame'>\n",
      "RangeIndex: 398 entries, 0 to 397\n",
      "Data columns (total 9 columns):\n",
      " #   Column        Non-Null Count  Dtype  \n",
      "---  ------        --------------  -----  \n",
      " 0   mpg           398 non-null    float64\n",
      " 1   cylinders     398 non-null    int64  \n",
      " 2   displacement  398 non-null    float64\n",
      " 3   horsepower    392 non-null    float64\n",
      " 4   weight        398 non-null    int64  \n",
      " 5   acceleration  398 non-null    float64\n",
      " 6   model_year    398 non-null    int64  \n",
      " 7   origin        398 non-null    object \n",
      " 8   name          398 non-null    object \n",
      "dtypes: float64(4), int64(3), object(2)\n",
      "memory usage: 28.1+ KB\n"
     ]
    }
   ],
   "source": [
    "data = load_dataset(\"mpg\")\n",
    "data.info()"
   ]
  },
  {
   "cell_type": "code",
   "execution_count": 47,
   "metadata": {},
   "outputs": [],
   "source": [
    "data_numerics = data.drop([\"origin\", \"name\"], axis =1)"
   ]
  },
  {
   "cell_type": "code",
   "execution_count": 55,
   "metadata": {},
   "outputs": [],
   "source": [
    "df_unknown_hp = data.query('horsepower.isnull()', engine='python')\n",
    "unknown_indexes = df_unknown_hp.index"
   ]
  },
  {
   "cell_type": "code",
   "execution_count": 49,
   "metadata": {},
   "outputs": [],
   "source": [
    "horsepowers = {\n",
    "    'ford pinto' : 100,\n",
    "    'ford maverick' : 84,\n",
    "    'renault lecar deluxe':54,\n",
    "    'ford mustang cobra': 119,\n",
    "    'renault 18i':81.5,\n",
    "    'amc concord dl':82\n",
    "}"
   ]
  },
  {
   "cell_type": "code",
   "execution_count": 56,
   "metadata": {},
   "outputs": [],
   "source": [
    "from sklearn.model_selection import train_test_split\n",
    "\n",
    "\n",
    "X, y = data.drop([\"horsepower\", 'name'], axis = 1), data.horsepower\n",
    "X, y = X.drop(unknown_indexes) ,y.drop(unknown_indexes)\n",
    "X_train, X_test, y_train, y_test = train_test_split(X, y, test_size=.33, random_state=42)\n",
    "X_train, X_val, y_train, y_val = train_test_split(X_train, y_train, test_size=.2, random_state=42)\n",
    "\n"
   ]
  },
  {
   "cell_type": "code",
   "execution_count": null,
   "metadata": {},
   "outputs": [],
   "source": [
    "from sklearn.preprocessing import MinMaxScaler, StandardScaler\n",
    "from sklearn.pipeline import Pipeline\n",
    "from sklearn.ensemble import RandomForestRegressor\n",
    "from sklearn.model_selection import GridSearchCV\n",
    "\n",
    "\n",
    "pipe_std = Pipeline([\n",
    "    (\"scaler\", StandardScaler()), ('RFregressor', RandomForestRegressor())\n",
    "])\n",
    "\n",
    "pipe_mmax = Pipeline([\n",
    "    (\"scaler\", MinMaxScaler()), ('RFregressor', RandomForestRegressor())\n",
    "])\n",
    "\n",
    "param_grid_regressor = {\"RFregressor__n_estimators\" : [50,100,200]}\n",
    "\n",
    "classifier_std = GridSearchCV(estimator= pipe_std, param_grid = param_grid_regressor, cv = 5, scoring = \"accuracy\", verbose = 1)\n",
    "classifier_mmax = GridSearchCV(estimator= pipe_mmax, param_grid= param_grid_regressor, cv = 5, scoring = \"accuracy\", verbose = 1)"
   ]
  },
  {
   "cell_type": "code",
   "execution_count": null,
   "metadata": {},
   "outputs": [],
   "source": [
    "classifier_mmax.fit(X_train, y_train)\n",
    "classifier_std.fit(X_train, y_train)"
   ]
  }
 ],
 "metadata": {
  "interpreter": {
   "hash": "bc94f2d8c500a25fa5b6885ff17e78fee45d91c1158269e91ae0c2d68d44f5e7"
  },
  "kernelspec": {
   "display_name": "Python 3.7.13 ('Dl-ll')",
   "language": "python",
   "name": "python3"
  },
  "language_info": {
   "codemirror_mode": {
    "name": "ipython",
    "version": 3
   },
   "file_extension": ".py",
   "mimetype": "text/x-python",
   "name": "python",
   "nbconvert_exporter": "python",
   "pygments_lexer": "ipython3",
   "version": "3.7.13"
  },
  "orig_nbformat": 4
 },
 "nbformat": 4,
 "nbformat_minor": 2
}
